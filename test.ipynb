{
 "cells": [
  {
   "cell_type": "code",
   "execution_count": 3,
   "metadata": {},
   "outputs": [],
   "source": [
    "import os\n",
    "import pickle\n",
    "\n",
    "import pandas as pd\n",
    "\n",
    "from tqdm import tqdm\n",
    "\n",
    "from wbapi import WbApi"
   ]
  },
  {
   "cell_type": "code",
   "execution_count": 4,
   "metadata": {},
   "outputs": [],
   "source": [
    "with open('token.txt') as f:\n",
    "    token = f.read()"
   ]
  },
  {
   "cell_type": "code",
   "execution_count": 5,
   "metadata": {},
   "outputs": [
    {
     "name": "stdout",
     "output_type": "stream",
     "text": [
      "[{'imtID': 113425616, 'nmID': 131701653, 'vendorCode': 'SR1-|PU|-C826///1', 'mediaFiles': ['', 'https://basket-10.wb.ru/vol1317/part131701/131701653/images/big/1.jpg'], 'sizes': [{'techSize': '0', 'skus': ['SR1-|PU|-C826///1'], 'chrtID': 227065322, 'wbSize': '', 'price': 6837}], 'characteristics': [{'Ширина упаковки': 15}, {'Высота упаковки': 10}, {'Длина упаковки': 15}, {'Комплектация': ['1']}, {'ОЕМ номер': ['164003VD0C', 'MFE 1653 MB', 'J1331052', '3ECO097', 'FE0069', '37NI029', '1640000Q3A', '1500166', 'PAL2-6009', 'CFF100659', '101326', 'E216L', 'E437KP D266', 'F320701', 'LF-779', '28136-LF-PCS-MS', '2136719', 'GS014389E', 'C11574', '28136/1-LF-PCS-MS', 'F140', 'SKFF-0870115', '1640000Q2E', '16400']}, {'Артикул производителя': ['SR1-|PU|-C826///1']}, {'Бренд': 'PURFLUX'}, {'Предмет': 'Ремкомплекты автомобильные'}, {'Наименование': 'Топливный фильтр, 164003VD0C !'}, {'Описание': 'Топливный фильтр.  9. Внешний диаметр 81мм. Внутренний диаметр 11мм. высота 118мм. Фильтр топливный DACIA: DOKKER 1.5DCi/BlueDCi 12-, DUSTER 1.5DCi 10-, DUSTER II 1.5DCi 17-, LODGY 1.5DCi 12-, LOGAN II 1.5DCi/BlueDCi 12- \\\\ RENAULT: KANGOO 1.5DCi 08-. Марка автомобиля: DACIA, MERCEDES-BENZ, NISSAN, RENAULT. Для уточнения принадлежности данной детали именно к вашему автомобилю, необходимо в запросе отправить корректный ВИНкод вашего автомобиля(17 знаков) или если у вас автомобиль с правым рулём (номер кузова) и наши специалисты ответят точно о сопоставимости.'}]}]\n"
     ]
    }
   ],
   "source": [
    "with WbApi.create_wb_api(token) as wb_api:\n",
    "    print(wb_api.get_cards_by_vendors('SR1-|PU|-C826///1'))"
   ]
  },
  {
   "cell_type": "code",
   "execution_count": 9,
   "metadata": {},
   "outputs": [],
   "source": [
    "df = pd.read_excel('data\\\\vendors.xlsx')"
   ]
  },
  {
   "cell_type": "code",
   "execution_count": 15,
   "metadata": {},
   "outputs": [
    {
     "data": {
      "text/plain": [
       "['AA9-|BO|-3397118996///1',\n",
       " 'MB9-|BO|-3397001984///1',\n",
       " 'FR1-|BO|-3397008997///1',\n",
       " 'AA9-|BO|-3397118938///1',\n",
       " 'FA9-|BO|-3397118913///1',\n",
       " 'FA9-|BO|-3397004628///1',\n",
       " 'FR1-|BO|-3397007294///1',\n",
       " 'FR1-|BO|-3397014212///1',\n",
       " 'FR1-|BO|-3397014211///1',\n",
       " 'AK9-|BO|-1457433593///1',\n",
       " 'MB9-|BO|-3397118996///1',\n",
       " 'FA9-|BO|-3397007565///1',\n",
       " 'AK9-|BO|-0986594590///1',\n",
       " 'AE9-|BO|-3397005807///1',\n",
       " 'AK9-|BO|-3397018964///1',\n",
       " 'FA9-|BO|-3397005808///1',\n",
       " 'AE9-|BO|-3397118972///1',\n",
       " 'MB9-|BO|-3397004802///1',\n",
       " 'FR1-|BO|-3397007589///1',\n",
       " 'FR1-|BO|-3397011628///1',\n",
       " 'AK9-|BO|-3397001543///1']"
      ]
     },
     "execution_count": 15,
     "metadata": {},
     "output_type": "execute_result"
    }
   ],
   "source": [
    "df.values.T[0].tolist()"
   ]
  },
  {
   "cell_type": "code",
   "execution_count": 8,
   "metadata": {},
   "outputs": [],
   "source": [
    "cards_to_modify = []\n",
    "for file_name in os.listdir('data/cards_empty/'):\n",
    "    with open(f'data/cards_empty/{file_name}', 'rb') as f:\n",
    "        cards_to_modify.extend(list(pickle.load(f)))"
   ]
  },
  {
   "cell_type": "code",
   "execution_count": 10,
   "metadata": {},
   "outputs": [
    {
     "data": {
      "text/plain": [
       "613507"
      ]
     },
     "execution_count": 10,
     "metadata": {},
     "output_type": "execute_result"
    }
   ],
   "source": [
    "len(cards_to_modify)"
   ]
  },
  {
   "cell_type": "code",
   "execution_count": null,
   "metadata": {},
   "outputs": [],
   "source": []
  }
 ],
 "metadata": {
  "kernelspec": {
   "display_name": "ml",
   "language": "python",
   "name": "python3"
  },
  "language_info": {
   "codemirror_mode": {
    "name": "ipython",
    "version": 3
   },
   "file_extension": ".py",
   "mimetype": "text/x-python",
   "name": "python",
   "nbconvert_exporter": "python",
   "pygments_lexer": "ipython3",
   "version": "3.10.9"
  },
  "orig_nbformat": 4,
  "vscode": {
   "interpreter": {
    "hash": "45e6302f2b4ec81add0d3758726e649dffe43b2cfc8a72d111ea985a61503901"
   }
  }
 },
 "nbformat": 4,
 "nbformat_minor": 2
}
