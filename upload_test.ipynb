{
 "cells": [
  {
   "cell_type": "code",
   "execution_count": 3,
   "metadata": {},
   "outputs": [],
   "source": [
    "import numpy as np\n",
    "import pandas as pd\n",
    "\n",
    "from tqdm.notebook import tqdm\n",
    "\n",
    "from wbapi import WbApi\n",
    "\n",
    "%load_ext autoreload\n",
    "%autoreload 2"
   ]
  },
  {
   "cell_type": "code",
   "execution_count": 4,
   "metadata": {},
   "outputs": [],
   "source": [
    "with open('token.txt') as f:\n",
    "    token = f.read()"
   ]
  },
  {
   "cell_type": "code",
   "execution_count": 5,
   "metadata": {},
   "outputs": [
    {
     "name": "stdout",
     "output_type": "stream",
     "text": [
      "[{'characteristics': [{'Ширина упаковки': 20}, {'Высота упаковки': 10}, {'Длина упаковки': 20}, {'Артикул производителя': ['7401HS']}, {'Бренд': 'CITROEN/PEUGEOT'}, {'Ставка НДС': ['20']}, {'Предмет': 'Автозапчасти'}, {'Наименование': 'Фиксатор / agrafe CITROEN/PEUGEOT 7401HS'}, {'Описание': 'Фиксатор / agrafe CITROEN/PEUGEOT 7401HS'}], 'sizes': [{'techSize': '0', 'skus': ['Ar-7401HS'], 'chrtID': 303985234, 'wbSize': '', 'price': 402}], 'mediaFiles': [], 'dimensions': {'width': 20, 'length': 20, 'height': 10}, 'nmID': 184647553, 'imtID': 168012187, 'objectID': 6728, 'object': 'Автозапчасти', 'vendorCode': 'Ar-7401HS', 'isProhibited': False}]\n"
     ]
    }
   ],
   "source": [
    "with WbApi.create_wb_api(token) as wb_api:\n",
    "    print(wb_api.get_cards_by_vendors('Ar-7401HS'))"
   ]
  },
  {
   "cell_type": "code",
   "execution_count": 6,
   "metadata": {},
   "outputs": [],
   "source": [
    "upload_data = pd.read_excel(\"data/upload.xlsx\")"
   ]
  },
  {
   "cell_type": "code",
   "execution_count": 7,
   "metadata": {},
   "outputs": [],
   "source": [
    "upload_data.rename(columns={\n",
    "    \"Артикул продавца\": \"vendorCode\",\n",
    "    \"Цена, руб.\": \"price\",\n",
    "    \"Баркоды\": \"skus\",\n",
    "    \"Длина (см)\" : \"Длина упаковки\",\n",
    "    \"Ширина (см)\": \"Ширина упаковки\",\n",
    "    \"Высота (см)\": \"Высота упаковки\",\n",
    "    \"ссылка на фото\": \"image\",\n",
    "    \"ставка НДС\": \"Ставка НДС\"\n",
    "}, inplace=True)"
   ]
  },
  {
   "cell_type": "code",
   "execution_count": 11,
   "metadata": {},
   "outputs": [],
   "source": [
    "upload_data.to_excel(\"data/upload.xlsx\")"
   ]
  },
  {
   "cell_type": "code",
   "execution_count": 49,
   "metadata": {},
   "outputs": [
    {
     "name": "stdout",
     "output_type": "stream",
     "text": [
      "[[{'vendorCode': 'Ar-1982C7', 'sizes': [{'price': 3156, 'skus': ['Ar-1982C7']}], 'characteristics': [{'vendorCode': 'Ar-1982C7'}, {'skus': 'Ar-1982C7'}, {'Наименование': 'Фиксат.инжект. CITROEN/PEUGEOT 1982C7'}, {'Описание': 'Фиксат.инжект. CITROEN/PEUGEOT 1982C7'}, {'Бренд': 'CITROEN/PEUGEOT'}, {'Артикул производителя': '1982C7'}, {'price': 3156}, {'ставка НДС': 20}, {'Длина упаковки': 20}, {'Ширина упаковки': 20}, {'Высота упаковки': 10}]}], [{'vendorCode': 'Ar-1608546180', 'sizes': [{'price': 252, 'skus': ['Ar-1608546180']}], 'characteristics': [{'vendorCode': 'Ar-1608546180'}, {'skus': 'Ar-1608546180'}, {'Наименование': 'ФИКСАТОР'}, {'Описание': 'ФИКСАТОР'}, {'Бренд': 'CITROEN/PEUGEOT'}, {'Артикул производителя': 1608546180}, {'price': 252}, {'ставка НДС': 20}, {'Длина упаковки': 20}, {'Ширина упаковки': 20}, {'Высота упаковки': 10}]}], [{'vendorCode': 'Ar-7401HS', 'sizes': [{'price': 402, 'skus': ['Ar-7401HS']}], 'characteristics': [{'vendorCode': 'Ar-7401HS'}, {'skus': 'Ar-7401HS'}, {'Наименование': 'Фиксатор / agrafe CITROEN/PEUGEOT 7401HS'}, {'Описание': 'Фиксатор / agrafe CITROEN/PEUGEOT 7401HS'}, {'Бренд': 'CITROEN/PEUGEOT'}, {'Артикул производителя': '7401HS'}, {'price': 402}, {'ставка НДС': 20}, {'Длина упаковки': 20}, {'Ширина упаковки': 20}, {'Высота упаковки': 10}]}], [{'vendorCode': 'Ar-1608722380', 'sizes': [{'price': 88, 'skus': ['Ar-1608722380']}], 'characteristics': [{'vendorCode': 'Ar-1608722380'}, {'skus': 'Ar-1608722380'}, {'Наименование': 'Фиксатор CITROEN/PEUGEOT 1608722380'}, {'Описание': 'Фиксатор CITROEN/PEUGEOT 1608722380'}, {'Бренд': 'CITROEN/PEUGEOT'}, {'Артикул производителя': 1608722380}, {'price': 88}, {'ставка НДС': 20}, {'Длина упаковки': 20}, {'Ширина упаковки': 20}, {'Высота упаковки': 10}]}], [{'vendorCode': 'Ar-621263', 'sizes': [{'price': 358, 'skus': ['Ar-621263']}], 'characteristics': [{'vendorCode': 'Ar-621263'}, {'skus': 'Ar-621263'}, {'Наименование': 'Фиксатор CITROEN/PEUGEOT 621263'}, {'Описание': 'Фиксатор CITROEN/PEUGEOT 621263'}, {'Бренд': 'CITROEN/PEUGEOT'}, {'Артикул производителя': 621263}, {'price': 358}, {'ставка НДС': 20}, {'Длина упаковки': 20}, {'Ширина упаковки': 20}, {'Высота упаковки': 10}]}], [{'vendorCode': 'Ar-6822ZX', 'sizes': [{'price': 329, 'skus': ['Ar-6822ZX']}], 'characteristics': [{'vendorCode': 'Ar-6822ZX'}, {'skus': 'Ar-6822ZX'}, {'Наименование': 'Фиксатор CITROEN/PEUGEOT 6822ZX'}, {'Описание': 'Фиксатор CITROEN/PEUGEOT 6822ZX'}, {'Бренд': 'CITROEN/PEUGEOT'}, {'Артикул производителя': '6822ZX'}, {'price': 329}, {'ставка НДС': 20}, {'Длина упаковки': 20}, {'Ширина упаковки': 20}, {'Высота упаковки': 10}]}], [{'vendorCode': 'Ar-682376', 'sizes': [{'price': 432, 'skus': ['Ar-682376']}], 'characteristics': [{'vendorCode': 'Ar-682376'}, {'skus': 'Ar-682376'}, {'Наименование': 'Фиксатор CITROEN/PEUGEOT 682376'}, {'Описание': 'Фиксатор CITROEN/PEUGEOT 682376'}, {'Бренд': 'CITROEN/PEUGEOT'}, {'Артикул производителя': 682376}, {'price': 432}, {'ставка НДС': 20}, {'Длина упаковки': 20}, {'Ширина упаковки': 20}, {'Высота упаковки': 10}]}], [{'vendorCode': 'Ar-6995V6', 'sizes': [{'price': 38, 'skus': ['Ar-6995V6']}], 'characteristics': [{'vendorCode': 'Ar-6995V6'}, {'skus': 'Ar-6995V6'}, {'Наименование': 'Фиксатор CITROEN/PEUGEOT 6995V6'}, {'Описание': 'Фиксатор CITROEN/PEUGEOT 6995V6'}, {'Бренд': 'CITROEN/PEUGEOT'}, {'Артикул производителя': '6995V6'}, {'price': 38}, {'ставка НДС': 20}, {'Длина упаковки': 20}, {'Ширина упаковки': 20}, {'Высота упаковки': 10}]}], [{'vendorCode': 'Ar-6995X3', 'sizes': [{'price': 64, 'skus': ['Ar-6995X3']}], 'characteristics': [{'vendorCode': 'Ar-6995X3'}, {'skus': 'Ar-6995X3'}, {'Наименование': 'Фиксатор CITROEN/PEUGEOT 6995X3'}, {'Описание': 'Фиксатор CITROEN/PEUGEOT 6995X3'}, {'Бренд': 'CITROEN/PEUGEOT'}, {'Артикул производителя': '6995X3'}, {'price': 64}, {'ставка НДС': 20}, {'Длина упаковки': 20}, {'Ширина упаковки': 20}, {'Высота упаковки': 10}]}]]\n"
     ]
    }
   ],
   "source": [
    "wb_api = WbApi(token)"
   ]
  },
  {
   "cell_type": "code",
   "execution_count": 100,
   "metadata": {},
   "outputs": [
    {
     "name": "stderr",
     "output_type": "stream",
     "text": [
      "  0%|          | 0/1 [00:00<?, ?it/s]"
     ]
    },
    {
     "name": "stdout",
     "output_type": "stream",
     "text": [
      "Bad status code. Additional check is required\n",
      "Problem with existed vendors, retrying\n"
     ]
    },
    {
     "name": "stderr",
     "output_type": "stream",
     "text": [
      "100%|██████████| 1/1 [00:05<00:00,  5.09s/it]\n"
     ]
    },
    {
     "data": {
      "text/plain": [
       "(200, {'data': None, 'error': False, 'errorText': '', 'additionalErrors': {}})"
      ]
     },
     "execution_count": 100,
     "metadata": {},
     "output_type": "execute_result"
    }
   ],
   "source": [
    "wb_api.upload_cards(upload_data)"
   ]
  },
  {
   "cell_type": "code",
   "execution_count": 90,
   "metadata": {},
   "outputs": [],
   "source": []
  },
  {
   "cell_type": "code",
   "execution_count": null,
   "metadata": {},
   "outputs": [],
   "source": []
  }
 ],
 "metadata": {
  "kernelspec": {
   "display_name": "wb_api",
   "language": "python",
   "name": "python3"
  },
  "language_info": {
   "codemirror_mode": {
    "name": "ipython",
    "version": 3
   },
   "file_extension": ".py",
   "mimetype": "text/x-python",
   "name": "python",
   "nbconvert_exporter": "python",
   "pygments_lexer": "ipython3",
   "version": "3.9.16"
  }
 },
 "nbformat": 4,
 "nbformat_minor": 2
}
